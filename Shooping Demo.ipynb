{
 "cells": [
  {
   "cell_type": "code",
   "execution_count": 1,
   "id": "6ae89c71",
   "metadata": {},
   "outputs": [],
   "source": [
    "import numpy as np\n",
    "import pandas as pd\n",
    "import matplotlib.pyplot as plt"
   ]
  },
  {
   "cell_type": "code",
   "execution_count": 2,
   "id": "9640b185",
   "metadata": {},
   "outputs": [],
   "source": [
    "data = pd.read_excel('F:/AndiSurya/kuliah/Shoping-Demo/shooping_demo.xls')"
   ]
  },
  {
   "cell_type": "code",
   "execution_count": 3,
   "id": "a883a86c",
   "metadata": {},
   "outputs": [
    {
     "data": {
      "text/html": [
       "<div>\n",
       "<style scoped>\n",
       "    .dataframe tbody tr th:only-of-type {\n",
       "        vertical-align: middle;\n",
       "    }\n",
       "\n",
       "    .dataframe tbody tr th {\n",
       "        vertical-align: top;\n",
       "    }\n",
       "\n",
       "    .dataframe thead th {\n",
       "        text-align: right;\n",
       "    }\n",
       "</style>\n",
       "<table border=\"1\" class=\"dataframe\">\n",
       "  <thead>\n",
       "    <tr style=\"text-align: right;\">\n",
       "      <th></th>\n",
       "      <th>Day</th>\n",
       "      <th>Discount</th>\n",
       "      <th>Free Delivery</th>\n",
       "      <th>Buy</th>\n",
       "    </tr>\n",
       "  </thead>\n",
       "  <tbody>\n",
       "    <tr>\n",
       "      <th>0</th>\n",
       "      <td>Weekday</td>\n",
       "      <td>Yes</td>\n",
       "      <td>Yes</td>\n",
       "      <td>Yes</td>\n",
       "    </tr>\n",
       "    <tr>\n",
       "      <th>1</th>\n",
       "      <td>Weekday</td>\n",
       "      <td>Yes</td>\n",
       "      <td>Yes</td>\n",
       "      <td>Yes</td>\n",
       "    </tr>\n",
       "    <tr>\n",
       "      <th>2</th>\n",
       "      <td>Weekend</td>\n",
       "      <td>No</td>\n",
       "      <td>No</td>\n",
       "      <td>No</td>\n",
       "    </tr>\n",
       "    <tr>\n",
       "      <th>3</th>\n",
       "      <td>Holiday</td>\n",
       "      <td>Yes</td>\n",
       "      <td>Yes</td>\n",
       "      <td>Yes</td>\n",
       "    </tr>\n",
       "    <tr>\n",
       "      <th>4</th>\n",
       "      <td>Weekday</td>\n",
       "      <td>Yes</td>\n",
       "      <td>Yes</td>\n",
       "      <td>Yes</td>\n",
       "    </tr>\n",
       "  </tbody>\n",
       "</table>\n",
       "</div>"
      ],
      "text/plain": [
       "       Day Discount Free Delivery  Buy\n",
       "0  Weekday      Yes           Yes  Yes\n",
       "1  Weekday      Yes           Yes  Yes\n",
       "2  Weekend       No            No   No\n",
       "3  Holiday      Yes           Yes  Yes\n",
       "4  Weekday      Yes           Yes  Yes"
      ]
     },
     "execution_count": 3,
     "metadata": {},
     "output_type": "execute_result"
    }
   ],
   "source": [
    "data.head()"
   ]
  },
  {
   "cell_type": "code",
   "execution_count": 4,
   "id": "cc40d934",
   "metadata": {},
   "outputs": [
    {
     "data": {
      "text/plain": [
       "(50, 4)"
      ]
     },
     "execution_count": 4,
     "metadata": {},
     "output_type": "execute_result"
    }
   ],
   "source": [
    "data.shape"
   ]
  },
  {
   "cell_type": "code",
   "execution_count": 5,
   "id": "e4f0e92c",
   "metadata": {
    "scrolled": false
   },
   "outputs": [
    {
     "data": {
      "text/plain": [
       "Yes    41\n",
       "No      9\n",
       "Name: Buy, dtype: int64"
      ]
     },
     "execution_count": 5,
     "metadata": {},
     "output_type": "execute_result"
    }
   ],
   "source": [
    "data['Buy'].value_counts()"
   ]
  },
  {
   "cell_type": "code",
   "execution_count": 6,
   "id": "8063dab0",
   "metadata": {},
   "outputs": [],
   "source": [
    "PYes = 41/50\n",
    "PNo = 9/50"
   ]
  },
  {
   "cell_type": "code",
   "execution_count": 7,
   "id": "76d18262",
   "metadata": {},
   "outputs": [
    {
     "name": "stdout",
     "output_type": "stream",
     "text": [
      "0.82\n"
     ]
    }
   ],
   "source": [
    "print(PYes)"
   ]
  },
  {
   "cell_type": "code",
   "execution_count": 8,
   "id": "b50596e2",
   "metadata": {},
   "outputs": [
    {
     "name": "stdout",
     "output_type": "stream",
     "text": [
      "0.18\n"
     ]
    }
   ],
   "source": [
    "print(PNo)"
   ]
  },
  {
   "cell_type": "code",
   "execution_count": 9,
   "id": "2954890a",
   "metadata": {},
   "outputs": [
    {
     "data": {
      "text/html": [
       "<div>\n",
       "<style scoped>\n",
       "    .dataframe tbody tr th:only-of-type {\n",
       "        vertical-align: middle;\n",
       "    }\n",
       "\n",
       "    .dataframe tbody tr th {\n",
       "        vertical-align: top;\n",
       "    }\n",
       "\n",
       "    .dataframe thead th {\n",
       "        text-align: right;\n",
       "    }\n",
       "</style>\n",
       "<table border=\"1\" class=\"dataframe\">\n",
       "  <thead>\n",
       "    <tr style=\"text-align: right;\">\n",
       "      <th>Buy</th>\n",
       "      <th>No</th>\n",
       "      <th>Yes</th>\n",
       "    </tr>\n",
       "    <tr>\n",
       "      <th>Day</th>\n",
       "      <th></th>\n",
       "      <th></th>\n",
       "    </tr>\n",
       "  </thead>\n",
       "  <tbody>\n",
       "    <tr>\n",
       "      <th>Holiday</th>\n",
       "      <td>6</td>\n",
       "      <td>18</td>\n",
       "    </tr>\n",
       "    <tr>\n",
       "      <th>Weekday</th>\n",
       "      <td>2</td>\n",
       "      <td>9</td>\n",
       "    </tr>\n",
       "    <tr>\n",
       "      <th>Weekend</th>\n",
       "      <td>1</td>\n",
       "      <td>14</td>\n",
       "    </tr>\n",
       "  </tbody>\n",
       "</table>\n",
       "</div>"
      ],
      "text/plain": [
       "Buy      No  Yes\n",
       "Day             \n",
       "Holiday   6   18\n",
       "Weekday   2    9\n",
       "Weekend   1   14"
      ]
     },
     "execution_count": 9,
     "metadata": {},
     "output_type": "execute_result"
    }
   ],
   "source": [
    "pd.crosstab(data['Day'], data['Buy'])"
   ]
  },
  {
   "cell_type": "code",
   "execution_count": 10,
   "id": "be8bf69d",
   "metadata": {},
   "outputs": [
    {
     "name": "stdout",
     "output_type": "stream",
     "text": [
      "0.21951219512195122\n"
     ]
    }
   ],
   "source": [
    "PHolidayNo = 6/9\n",
    "PWeekdayNo = 2/9\n",
    "PWeekendNo = 1/9\n",
    "\n",
    "PholidayYes = 18/41\n",
    "PWeekdayYes = 9/41\n",
    "PWeekendYes = 14/41\n",
    "\n",
    "PHoliday = 24/50\n",
    "PWeekday = 11/50\n",
    "PWeekend = 15/50\n",
    "\n",
    "print(PWeekdayYes)"
   ]
  },
  {
   "cell_type": "code",
   "execution_count": 11,
   "id": "ba4ef2ac",
   "metadata": {},
   "outputs": [],
   "source": [
    "# P(A|B) ?\n",
    "# P (B) = PWeekday\n",
    "# P (A) = No Buy\n",
    "# P(B|A) = P Weekday|NoBuy"
   ]
  },
  {
   "cell_type": "code",
   "execution_count": 12,
   "id": "bb3c4bee",
   "metadata": {},
   "outputs": [
    {
     "name": "stdout",
     "output_type": "stream",
     "text": [
      "0.1818181818181818\n"
     ]
    }
   ],
   "source": [
    "PNoWeekday = (PWeekdayNo*PNo)/PWeekday\n",
    "print(PNoWeekday)"
   ]
  },
  {
   "cell_type": "code",
   "execution_count": 13,
   "id": "1a2ff3c4",
   "metadata": {},
   "outputs": [
    {
     "name": "stdout",
     "output_type": "stream",
     "text": [
      "0.8181818181818181\n"
     ]
    }
   ],
   "source": [
    "PYesWeekday = (PWeekdayYes*PYes)/PWeekday\n",
    "print(PYesWeekday)"
   ]
  },
  {
   "cell_type": "code",
   "execution_count": 14,
   "id": "b53f7d42",
   "metadata": {},
   "outputs": [
    {
     "name": "stdout",
     "output_type": "stream",
     "text": [
      "0.1818181818181818\n",
      "0.8181818181818181\n"
     ]
    }
   ],
   "source": [
    "# Probabilitas (Buy | Weekday) > dibanding dengan Probailitas (NoBuy | Weekday)\n",
    "print(PNoWeekday)\n",
    "print(PYesWeekday)"
   ]
  },
  {
   "cell_type": "code",
   "execution_count": 15,
   "id": "c814e360",
   "metadata": {},
   "outputs": [],
   "source": [
    "# Kondisi B diamana\n",
    "# Day = Holiday\n",
    "# Discount = Yes\n",
    "# Free Delivery = Yes\n",
    "# A = NoBuy\n",
    "# P(A|B) = P(NoBuy |DiscountYes, Free Delivery Yes, PDayHoliday)"
   ]
  },
  {
   "cell_type": "code",
   "execution_count": 16,
   "id": "a38ea09d",
   "metadata": {},
   "outputs": [
    {
     "data": {
      "text/html": [
       "<div>\n",
       "<style scoped>\n",
       "    .dataframe tbody tr th:only-of-type {\n",
       "        vertical-align: middle;\n",
       "    }\n",
       "\n",
       "    .dataframe tbody tr th {\n",
       "        vertical-align: top;\n",
       "    }\n",
       "\n",
       "    .dataframe thead th {\n",
       "        text-align: right;\n",
       "    }\n",
       "</style>\n",
       "<table border=\"1\" class=\"dataframe\">\n",
       "  <thead>\n",
       "    <tr style=\"text-align: right;\">\n",
       "      <th>Buy</th>\n",
       "      <th>No</th>\n",
       "      <th>Yes</th>\n",
       "    </tr>\n",
       "    <tr>\n",
       "      <th>Discount</th>\n",
       "      <th></th>\n",
       "      <th></th>\n",
       "    </tr>\n",
       "  </thead>\n",
       "  <tbody>\n",
       "    <tr>\n",
       "      <th>No</th>\n",
       "      <td>5</td>\n",
       "      <td>12</td>\n",
       "    </tr>\n",
       "    <tr>\n",
       "      <th>Yes</th>\n",
       "      <td>4</td>\n",
       "      <td>29</td>\n",
       "    </tr>\n",
       "  </tbody>\n",
       "</table>\n",
       "</div>"
      ],
      "text/plain": [
       "Buy       No  Yes\n",
       "Discount         \n",
       "No         5   12\n",
       "Yes        4   29"
      ]
     },
     "execution_count": 16,
     "metadata": {},
     "output_type": "execute_result"
    }
   ],
   "source": [
    "pd.crosstab(data['Discount'], data['Buy'])"
   ]
  },
  {
   "cell_type": "code",
   "execution_count": 17,
   "id": "635fa034",
   "metadata": {},
   "outputs": [],
   "source": [
    "PNoDiscountNo = 5/9\n",
    "PYesDiscountNo = 4/9\n",
    "\n",
    "PNoDiscountYes = 12/41\n",
    "PYesDiscountYes = 29/41\n",
    "\n",
    "PNoDiscount = 17/50\n",
    "PYesDiscount = 33/50\n"
   ]
  },
  {
   "cell_type": "code",
   "execution_count": 18,
   "id": "f4de7a07",
   "metadata": {},
   "outputs": [
    {
     "data": {
      "text/html": [
       "<div>\n",
       "<style scoped>\n",
       "    .dataframe tbody tr th:only-of-type {\n",
       "        vertical-align: middle;\n",
       "    }\n",
       "\n",
       "    .dataframe tbody tr th {\n",
       "        vertical-align: top;\n",
       "    }\n",
       "\n",
       "    .dataframe thead th {\n",
       "        text-align: right;\n",
       "    }\n",
       "</style>\n",
       "<table border=\"1\" class=\"dataframe\">\n",
       "  <thead>\n",
       "    <tr style=\"text-align: right;\">\n",
       "      <th>Buy</th>\n",
       "      <th>No</th>\n",
       "      <th>Yes</th>\n",
       "    </tr>\n",
       "    <tr>\n",
       "      <th>Free Delivery</th>\n",
       "      <th></th>\n",
       "      <th></th>\n",
       "    </tr>\n",
       "  </thead>\n",
       "  <tbody>\n",
       "    <tr>\n",
       "      <th>No</th>\n",
       "      <td>4</td>\n",
       "      <td>10</td>\n",
       "    </tr>\n",
       "    <tr>\n",
       "      <th>Yes</th>\n",
       "      <td>5</td>\n",
       "      <td>31</td>\n",
       "    </tr>\n",
       "  </tbody>\n",
       "</table>\n",
       "</div>"
      ],
      "text/plain": [
       "Buy            No  Yes\n",
       "Free Delivery         \n",
       "No              4   10\n",
       "Yes             5   31"
      ]
     },
     "execution_count": 18,
     "metadata": {},
     "output_type": "execute_result"
    }
   ],
   "source": [
    "pd.crosstab(data['Free Delivery'], data['Buy'])"
   ]
  },
  {
   "cell_type": "code",
   "execution_count": 19,
   "id": "95332a9c",
   "metadata": {},
   "outputs": [],
   "source": [
    "PNoDeliveryNo = 4/9\n",
    "PYesDeliveryNo = 5/9\n",
    "\n",
    "PNoDeliveryYes = 10/41\n",
    "PYesDeliveryYes = 31/41\n",
    "\n",
    "PNoDelivery = 14/50\n",
    "PYesDelivery = 36/50"
   ]
  },
  {
   "cell_type": "code",
   "execution_count": 20,
   "id": "9dd2bd76",
   "metadata": {},
   "outputs": [],
   "source": [
    "# Kondisi B dimana\n",
    "# Day = Holiday\n",
    "# Discount = Yes\n",
    "# Free Delivery = Yes\n",
    "# P(A) = NoBuy = PNo\n",
    "# P(B) = PYesDiscount,PYesDelivery,PHoliday\n",
    "# P(B|A)1 = (PHoliday|No Buy) = PHolidayNo\n",
    "# P(B|A)2 = (PYesDiscount|No Buy) = PYesDiscountNo\n",
    "# P(B|A)3 = (PYesDelivery|No Buy) = PYesDeliveryNo\n",
    "# P(B)1 = PHoliday\n",
    "# P(B)2 = PYesDiscount\n",
    "# P(B)3 = PYesDelivery\n",
    "\n",
    "#ditanyakan P(A|B) ?\n",
    "#Rumus\n",
    "# P(A|B) = P(B|A)*P(A)/P(B)"
   ]
  },
  {
   "cell_type": "code",
   "execution_count": 21,
   "id": "19f59d90",
   "metadata": {},
   "outputs": [
    {
     "name": "stdout",
     "output_type": "stream",
     "text": [
      "0.12989982125784594\n"
     ]
    }
   ],
   "source": [
    "PNoBuy1 = ((PHolidayNo*PYesDiscountNo*PYesDeliveryNo)*PNo)/(PHoliday*PYesDiscount*PYesDelivery)\n",
    "print(PNoBuy1)"
   ]
  },
  {
   "cell_type": "code",
   "execution_count": 22,
   "id": "8f017f50",
   "metadata": {},
   "outputs": [],
   "source": [
    "# Kondisi B dimana\n",
    "# Day = Holiday\n",
    "# Discount = Yes\n",
    "# Free Delivery = Yes\n",
    "# P(A) = Buy = PYes\n",
    "# P(B) = PYesDiscount,PYesDelivery,PHoliday\n",
    "# P(B|A)1 = (PHoliday|Buy) = PHolidayYes\n",
    "# P(B|A)2 = (PYesDiscount|Buy) = PYesDiscountYes\n",
    "# P(B|A)3 = (PYesDelivery|Buy) = PYesDeliveryYes\n",
    "# P(B)1 = PHoliday\n",
    "# P(B)2 = PYesDiscount\n",
    "# P(B)3 = PYesDelivery\n",
    "\n",
    "#ditanyakan P(A|B) ?\n",
    "#Rumus\n",
    "# P(A|B) = P(B|A)*P(A)/P(B)"
   ]
  },
  {
   "cell_type": "code",
   "execution_count": 25,
   "id": "55ebe435",
   "metadata": {},
   "outputs": [
    {
     "name": "stdout",
     "output_type": "stream",
     "text": [
      "0.9228463496756176\n"
     ]
    }
   ],
   "source": [
    "PBuy2 = ((PHoliday*PYesDiscountYes*PYesDeliveryYes)*PYes)/(PHoliday*PYesDiscount*PYesDelivery)\n",
    "print(PBuy2)"
   ]
  },
  {
   "cell_type": "code",
   "execution_count": null,
   "id": "52fee001",
   "metadata": {},
   "outputs": [],
   "source": [
    "# probality of No Buy = 0.12989982125784594\n",
    "# Probality of Buy = 0.9228463496756176"
   ]
  },
  {
   "cell_type": "code",
   "execution_count": 26,
   "id": "645380d3",
   "metadata": {},
   "outputs": [
    {
     "name": "stdout",
     "output_type": "stream",
     "text": [
      "1.0527461709334636\n"
     ]
    }
   ],
   "source": [
    "PSum = PNoBuy1+PBuy2\n",
    "print(PSum)"
   ]
  },
  {
   "cell_type": "code",
   "execution_count": 27,
   "id": "b1ffd29a",
   "metadata": {},
   "outputs": [
    {
     "name": "stdout",
     "output_type": "stream",
     "text": [
      "87.6608602487089\n"
     ]
    }
   ],
   "source": [
    "PBuy = (PBuy2/PSum) *100\n",
    "print(PBuy)"
   ]
  },
  {
   "cell_type": "code",
   "execution_count": 28,
   "id": "8950d3f0",
   "metadata": {},
   "outputs": [
    {
     "name": "stdout",
     "output_type": "stream",
     "text": [
      "13.675153943413864\n"
     ]
    }
   ],
   "source": [
    "PNoBuy = (PNoBuy1*PSum) *100\n",
    "print(PNoBuy)"
   ]
  },
  {
   "cell_type": "code",
   "execution_count": null,
   "id": "34923ce6",
   "metadata": {},
   "outputs": [],
   "source": []
  }
 ],
 "metadata": {
  "kernelspec": {
   "display_name": "Python 3 (ipykernel)",
   "language": "python",
   "name": "python3"
  },
  "language_info": {
   "codemirror_mode": {
    "name": "ipython",
    "version": 3
   },
   "file_extension": ".py",
   "mimetype": "text/x-python",
   "name": "python",
   "nbconvert_exporter": "python",
   "pygments_lexer": "ipython3",
   "version": "3.9.7"
  }
 },
 "nbformat": 4,
 "nbformat_minor": 5
}
